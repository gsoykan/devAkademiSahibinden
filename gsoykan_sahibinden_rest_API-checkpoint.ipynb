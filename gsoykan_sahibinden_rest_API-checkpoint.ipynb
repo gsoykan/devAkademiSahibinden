{
 "cells": [
  {
   "cell_type": "code",
   "execution_count": 1,
   "metadata": {
    "collapsed": false
   },
   "outputs": [],
   "source": [
    "import requests\n",
    "import json\n",
    "import pandas as pd\n",
    "from pandas import read_csv\n",
    "from pandas import datetime\n",
    "from matplotlib import pyplot\n",
    "from pandas.tools.plotting import autocorrelation_plot\n",
    "from sklearn.externals.six.moves import html_parser\n",
    "from sklearn.externals.six.moves.urllib.request import urlretrieve\n",
    "from sklearn.datasets import get_data_home\n",
    "from sklearn.feature_extraction.text import HashingVectorizer\n",
    "from sklearn import datasets, linear_model\n",
    "from sklearn.metrics import mean_squared_error, r2_score\n",
    "\n",
    "\n",
    "import tkinter\n",
    "from tkinter import messagebox\n"
   ]
  },
  {
   "cell_type": "code",
   "execution_count": 2,
   "metadata": {
    "collapsed": false
   },
   "outputs": [],
   "source": [
    "from flask import Flask, request\n",
    "from flask_restful import Resource, Api\n",
    "from sqlalchemy import create_engine\n",
    "from json import dumps\n",
    "from flask_jsonpify import jsonify"
   ]
  },
  {
   "cell_type": "code",
   "execution_count": 3,
   "metadata": {
    "collapsed": true
   },
   "outputs": [],
   "source": [
    "import sqlite3"
   ]
  },
  {
   "cell_type": "code",
   "execution_count": 4,
   "metadata": {
    "collapsed": false
   },
   "outputs": [],
   "source": [
    "from flask.views import MethodView\n"
   ]
  },
  {
   "cell_type": "code",
   "execution_count": 5,
   "metadata": {
    "collapsed": true
   },
   "outputs": [],
   "source": [
    "reqTicker = requests.get('https://devakademi.sahibinden.com/ticker')\n",
    "reqHistory = requests.get('https://devakademi.sahibinden.com/history')\n",
    "\n"
   ]
  },
  {
   "cell_type": "code",
   "execution_count": 6,
   "metadata": {
    "collapsed": false
   },
   "outputs": [
    {
     "data": {
      "text/plain": [
       "{'date': 1512916459530, 'value': 15192.28}"
      ]
     },
     "execution_count": 6,
     "metadata": {},
     "output_type": "execute_result"
    }
   ],
   "source": [
    "reqTicker.json()\n"
   ]
  },
  {
   "cell_type": "code",
   "execution_count": 7,
   "metadata": {
    "collapsed": false
   },
   "outputs": [],
   "source": [
    "myTicker = reqTicker.json()\n",
    "myHistory = reqHistory.json()"
   ]
  },
  {
   "cell_type": "code",
   "execution_count": 8,
   "metadata": {
    "collapsed": false
   },
   "outputs": [
    {
     "data": {
      "text/plain": [
       "1512916459530"
      ]
     },
     "execution_count": 8,
     "metadata": {},
     "output_type": "execute_result"
    }
   ],
   "source": [
    "myTicker['date']"
   ]
  },
  {
   "cell_type": "code",
   "execution_count": 9,
   "metadata": {
    "collapsed": false
   },
   "outputs": [
    {
     "data": {
      "text/plain": [
       "1174"
      ]
     },
     "execution_count": 9,
     "metadata": {},
     "output_type": "execute_result"
    }
   ],
   "source": [
    "len(myHistory)"
   ]
  },
  {
   "cell_type": "code",
   "execution_count": 10,
   "metadata": {
    "collapsed": false
   },
   "outputs": [],
   "source": [
    "#series = pd.read_json(path_or_buf=myHistory,orient='split',typ='series')\n",
    "myHistoryDataFrame = pd.DataFrame(myHistory,columns=['date','value'])\n",
    "myHistoryValueDataFrame = pd.DataFrame(myHistory,columns=['value'])\n",
    "myHistoryDateDataFrame = pd.DataFrame(myHistory,columns=['date'])\n",
    "\n",
    "#myTickerDataFrame = pd.DataFrame(myTicker)"
   ]
  },
  {
   "cell_type": "code",
   "execution_count": 11,
   "metadata": {
    "collapsed": false
   },
   "outputs": [
    {
     "name": "stdout",
     "output_type": "stream",
     "text": [
      "            date   value\n",
      "0  1418169600000  350.97\n",
      "1  1418256000000  356.10\n",
      "2  1418342400000  355.07\n",
      "3  1418428800000  350.31\n",
      "4  1418515200000  353.27\n"
     ]
    }
   ],
   "source": [
    "print(myHistoryDataFrame.head())"
   ]
  },
  {
   "cell_type": "code",
   "execution_count": 12,
   "metadata": {
    "collapsed": false
   },
   "outputs": [
    {
     "data": {
      "text/plain": [
       "<matplotlib.axes._subplots.AxesSubplot at 0x1cfdb969940>"
      ]
     },
     "execution_count": 12,
     "metadata": {},
     "output_type": "execute_result"
    }
   ],
   "source": [
    "myHistoryDataFrame.plot(x='date',y='value')\n"
   ]
  },
  {
   "cell_type": "code",
   "execution_count": 13,
   "metadata": {
    "collapsed": false
   },
   "outputs": [],
   "source": [
    "X = myHistoryDataFrame[\"date\"]\n",
    "y = myHistoryDataFrame[\"value\"]"
   ]
  },
  {
   "cell_type": "code",
   "execution_count": 14,
   "metadata": {
    "collapsed": false
   },
   "outputs": [
    {
     "data": {
      "image/png": "[encoded data removed]",
      "text/plain": [
       "<matplotlib.figure.Figure at 0x1cfdb8eda20>"
      ]
     },
     "metadata": {},
     "output_type": "display_data"
    }
   ],
   "source": [
    "pyplot.show()"
   ]
  },
  {
   "cell_type": "code",
   "execution_count": 15,
   "metadata": {
    "collapsed": false
   },
   "outputs": [],
   "source": [
    "myList = myHistoryDataFrame.values.data.tolist()\n",
    "array = myHistoryDataFrame.values\n",
    "hvalue = myHistoryValueDataFrame.columns"
   ]
  },
  {
   "cell_type": "code",
   "execution_count": 16,
   "metadata": {
    "collapsed": true
   },
   "outputs": [],
   "source": [
    "historyDate= []\n",
    "historyValue = []\n",
    "rangeVal=len(myList)"
   ]
  },
  {
   "cell_type": "code",
   "execution_count": 17,
   "metadata": {
    "collapsed": false
   },
   "outputs": [
    {
     "ename": "TypeError",
     "evalue": "'type' object is not subscriptable",
     "output_type": "error",
     "traceback": [
      "\u001b[0;31m---------------------------------------------------------------------------\u001b[0m",
      "\u001b[0;31mTypeError\u001b[0m                                 Traceback (most recent call last)",
      "\u001b[0;32m<ipython-input-17-ba83a7dd9f6e>\u001b[0m in \u001b[0;36m<module>\u001b[0;34m()\u001b[0m\n\u001b[1;32m      1\u001b[0m \u001b[1;32mfor\u001b[0m \u001b[0mi\u001b[0m \u001b[1;32min\u001b[0m \u001b[0mrange\u001b[0m\u001b[1;33m(\u001b[0m\u001b[0mrangeVal\u001b[0m\u001b[1;33m)\u001b[0m\u001b[1;33m:\u001b[0m\u001b[1;33m\u001b[0m\u001b[0m\n\u001b[0;32m----> 2\u001b[0;31m     \u001b[0mhistoryDate\u001b[0m\u001b[1;33m.\u001b[0m\u001b[0mappend\u001b[0m\u001b[1;33m(\u001b[0m\u001b[0mlist\u001b[0m\u001b[1;33m[\u001b[0m\u001b[0mi\u001b[0m\u001b[1;33m]\u001b[0m\u001b[1;33m[\u001b[0m\u001b[1;36m0\u001b[0m\u001b[1;33m]\u001b[0m\u001b[1;33m)\u001b[0m\u001b[1;33m\u001b[0m\u001b[0m\n\u001b[0m\u001b[1;32m      3\u001b[0m     \u001b[0mhistoryValue\u001b[0m\u001b[1;33m.\u001b[0m\u001b[0mappend\u001b[0m\u001b[1;33m(\u001b[0m\u001b[0mlist\u001b[0m\u001b[1;33m[\u001b[0m\u001b[0mi\u001b[0m\u001b[1;33m]\u001b[0m\u001b[1;33m[\u001b[0m\u001b[1;36m1\u001b[0m\u001b[1;33m]\u001b[0m\u001b[1;33m)\u001b[0m\u001b[1;33m\u001b[0m\u001b[0m\n",
      "\u001b[0;31mTypeError\u001b[0m: 'type' object is not subscriptable"
     ]
    }
   ],
   "source": [
    "for i in range(rangeVal):\n",
    "    historyDate.append(list[i][0])\n",
    "    historyValue.append(list[i][1])"
   ]
  },
  {
   "cell_type": "code",
   "execution_count": 18,
   "metadata": {
    "collapsed": false
   },
   "outputs": [],
   "source": [
    "regr = linear_model.LinearRegression()"
   ]
  },
  {
   "cell_type": "code",
   "execution_count": 19,
   "metadata": {
    "collapsed": false
   },
   "outputs": [
    {
     "data": {
      "text/plain": [
       "array([[   350.97],\n",
       "       [   356.1 ],\n",
       "       [   355.07],\n",
       "       ..., \n",
       "       [ 17213.43],\n",
       "       [ 17220.43],\n",
       "       [ 17242.43]])"
      ]
     },
     "execution_count": 19,
     "metadata": {},
     "output_type": "execute_result"
    }
   ],
   "source": [
    "X.values.reshape(-1, 1)\n",
    "y.values.reshape(-1, 1)"
   ]
  },
  {
   "cell_type": "code",
   "execution_count": 20,
   "metadata": {
    "collapsed": false
   },
   "outputs": [
    {
     "data": {
      "text/plain": [
       "LinearRegression(copy_X=True, fit_intercept=True, n_jobs=1, normalize=False)"
      ]
     },
     "execution_count": 20,
     "metadata": {},
     "output_type": "execute_result"
    }
   ],
   "source": [
    "regr.fit(X.values.reshape(-1,1), y)"
   ]
  },
  {
   "cell_type": "code",
   "execution_count": 21,
   "metadata": {
    "collapsed": false
   },
   "outputs": [
    {
     "data": {
      "text/plain": [
       "1512916459530"
      ]
     },
     "execution_count": 21,
     "metadata": {},
     "output_type": "execute_result"
    }
   ],
   "source": [
    "myTicker['date']"
   ]
  },
  {
   "cell_type": "code",
   "execution_count": 22,
   "metadata": {
    "collapsed": false
   },
   "outputs": [],
   "source": [
    "y_pred = regr.predict(myTicker['date'])"
   ]
  },
  {
   "cell_type": "code",
   "execution_count": 23,
   "metadata": {
    "collapsed": false
   },
   "outputs": [
    {
     "data": {
      "text/plain": [
       "array([ 6527.16028713])"
      ]
     },
     "execution_count": 23,
     "metadata": {},
     "output_type": "execute_result"
    }
   ],
   "source": [
    "y_pred"
   ]
  },
  {
   "cell_type": "code",
   "execution_count": 24,
   "metadata": {
    "collapsed": false
   },
   "outputs": [
    {
     "data": {
      "text/plain": [
       "15192.28"
      ]
     },
     "execution_count": 24,
     "metadata": {},
     "output_type": "execute_result"
    }
   ],
   "source": [
    "myTicker['value']"
   ]
  },
  {
   "cell_type": "code",
   "execution_count": 25,
   "metadata": {
    "collapsed": false
   },
   "outputs": [],
   "source": [
    "riskSit= (-y_pred[0] + myTicker['value'])/y_pred[0]*100"
   ]
  },
  {
   "cell_type": "code",
   "execution_count": 26,
   "metadata": {
    "collapsed": false
   },
   "outputs": [
    {
     "data": {
      "text/plain": [
       "132.75481728194927"
      ]
     },
     "execution_count": 26,
     "metadata": {},
     "output_type": "execute_result"
    }
   ],
   "source": [
    "riskSit"
   ]
  },
  {
   "cell_type": "code",
   "execution_count": 27,
   "metadata": {
    "collapsed": false
   },
   "outputs": [],
   "source": [
    "situation = \"empty\"\n",
    "def invest():\n",
    "    reqTicker = requests.get('https://devakademi.sahibinden.com/ticker')\n",
    "    reqHistory = requests.get('https://devakademi.sahibinden.com/history')\n",
    "    myTicker = reqTicker.json()\n",
    "    myHistory = reqHistory.json()\n",
    "    myHistory=myHistory[len(myHistory)-150:len(myHistory)]\n",
    "    myHistoryDataFrame = pd.DataFrame(myHistory,columns=['date','value'])\n",
    "    X = myHistoryDataFrame[\"date\"]\n",
    "    y = myHistoryDataFrame[\"value\"]\n",
    "    regr = linear_model.Ridge(solver='sag')\n",
    "    X.values.reshape(-1, 1)\n",
    "    y.values.reshape(-1, 1)\n",
    "    regr.fit(X.values.reshape(-1,1), y)\n",
    "    y_pred = regr.predict(myTicker['date'])\n",
    "    riskInvest = (-y_pred[0] + myTicker['value'])/y_pred[0]*100\n",
    "    if riskInvest >= 100:\n",
    "        situation=\"you should definetely invest\"\n",
    "    elif riskInvest < 100 and riskInvest>0:\n",
    "        situation=\"you can invest\"\n",
    "    elif riskInvest <0:\n",
    "        situation=\"you should not invest\"\n",
    "    tkinter.messagebox.showinfo( \"Investment Situation\", situation+\" with the score of \"+str(riskInvest))\n",
    "    return situation+\" with the score of \"+str(riskInvest)\n",
    "def coinVal():\n",
    "    reqTicker = requests.get('https://devakademi.sahibinden.com/ticker')\n",
    "    myTicker = reqTicker.json()\n",
    "    tkinter.messagebox.showinfo( \"Currency Value\",str(myTicker['value'])+\" Dollars!\")\n",
    "    return str(myTicker['value'])+\" Dollars!\"\n",
    "def getBTCrate():\n",
    "    reqBTC = requests.get('https://api.coindesk.com/v1/bpi/currentprice/USD.json')\n",
    "    BTCcurrent = reqBTC.json()\n",
    "    BTCcurrent['bpi']['USD']['rate']\n",
    "    tkinter.messagebox.showinfo( \"Currency Value\",str(BTCcurrent['bpi']['USD']['rate'])+\" Dollars!\")\n",
    "    return str(BTCcurrent['bpi']['USD']['rate'])+\" Dollars!\"\n",
    "def investBTC():\n",
    "    reqBTC = requests.get('https://api.coindesk.com/v1/bpi/currentprice/USD.json')\n",
    "    BTCcurrent = reqBTC.json()\n",
    "    BTCcurrent['bpi']['USD']['rate']\n",
    "    reqBTCHistory = requests.get('https://api.coindesk.com/v1/bpi/historical/close.json?start=2017-09-01&end=2017-12-09')\n",
    "    BTCHistory = reqBTCHistory.json()\n",
    "    myBTCHistoryDataFrame = pd.DataFrame({'rate':BTCHistory['bpi']})\n",
    "    BTCy = myBTCHistoryDataFrame[\"rate\"] \n",
    "    timelist=[]\n",
    "    for i in range(len(BTCy)):\n",
    "        timelist.append(i)\n",
    "    BTCX = pd.Series(data=timelist)\n",
    "    regr = linear_model.Ridge(solver='sag')\n",
    "    BTCX.values.reshape(-1, 1)\n",
    "    BTCy.values.reshape(-1, 1)\n",
    "    regr.fit(BTCX.values.reshape(-1,1), BTCy)\n",
    "    y_pred = regr.predict(len(BTCX)+3)\n",
    "    s=BTCcurrent['bpi']['USD']['rate'].split(',')\n",
    "    a=\"\"\n",
    "    b=a.join(s)\n",
    "    b.strip()\n",
    "    c=float(b)\n",
    "    riskInvest = ((-y_pred[0] + c)/y_pred[0])*100\n",
    "    if riskInvest >= 100:\n",
    "        situation=\"you should definetely invest\"\n",
    "    elif riskInvest < 100 and riskInvest>0:\n",
    "        situation=\"you can invest\"\n",
    "    elif riskInvest <0:\n",
    "        situation=\"you should not invest\"\n",
    "    tkinter.messagebox.showinfo( \"Investment Situation\", situation+\" with the score of \"+str(riskInvest))\n",
    "    return situation+\" with the score of \"+str(riskInvest)\n",
    "def estimateSCoin():\n",
    "    reqTicker = requests.get('https://devakademi.sahibinden.com/ticker')\n",
    "    reqHistory = requests.get('https://devakademi.sahibinden.com/history')\n",
    "    myTicker = reqTicker.json()\n",
    "    myHistory = reqHistory.json()\n",
    "    myHistory=myHistory[len(myHistory)-150:len(myHistory)]\n",
    "    myHistoryDataFrame = pd.DataFrame(myHistory,columns=['date','value'])\n",
    "    X = myHistoryDataFrame[\"date\"]\n",
    "    y = myHistoryDataFrame[\"value\"]\n",
    "    regr = linear_model.Ridge(solver='sag')\n",
    "    X.values.reshape(-1, 1)\n",
    "    y.values.reshape(-1, 1)\n",
    "    regr.fit(X.values.reshape(-1,1), y)\n",
    "    y_pred = regr.predict(myTicker['date'])\n",
    "    tkinter.messagebox.showinfo( \"Estimation\",\"Estimation \"+ str(y_pred[0]))\n",
    "    return \"Estimation \"+ str(y_pred[0])\n",
    "def estimateBTC():\n",
    "    reqBTCHistory = requests.get('https://api.coindesk.com/v1/bpi/historical/close.json?start=2017-09-01&end=2017-12-09')\n",
    "    BTCHistory = reqBTCHistory.json()\n",
    "    myBTCHistoryDataFrame = pd.DataFrame({'rate':BTCHistory['bpi']})\n",
    "    BTCy = myBTCHistoryDataFrame[\"rate\"] \n",
    "    timelist=[]\n",
    "    for i in range(len(BTCy)):\n",
    "        timelist.append(i)\n",
    "    BTCX = pd.Series(data=timelist)\n",
    "    regr = linear_model.Ridge(solver='sag')\n",
    "    BTCX.values.reshape(-1, 1)\n",
    "    BTCy.values.reshape(-1, 1)\n",
    "    regr.fit(BTCX.values.reshape(-1,1), BTCy)\n",
    "    y_pred = regr.predict(len(BTCX)+1)\n",
    "    tkinter.messagebox.showinfo( \"Estimation\",\"Estimation \"+ str(y_pred[0]))\n",
    "    return \"Estimation \"+ str(y_pred[0])"
   ]
  },
  {
   "cell_type": "code",
   "execution_count": 28,
   "metadata": {
    "collapsed": false
   },
   "outputs": [],
   "source": [
    "top = tkinter.Tk()\n",
    "B = tkinter.Button(top, text =\"Learn Investment Status of SCoin\",command = invest).pack()\n",
    "B2 = tkinter.Button(top, text =\"Learn the current Value of SCoin\",command = coinVal).pack()\n",
    "B5 = tkinter.Button(top, text =\"Learn the estimation about SCoin\",command = estimateSCoin).pack()\n",
    "B3 = tkinter.Button(top, text =\"Learn the current Value of BTC\",command = getBTCrate).pack()\n",
    "B4 = tkinter.Button(top, text =\"Learn the Investment Status of BTC\",command = investBTC).pack()\n",
    "B5 = tkinter.Button(top, text =\"Learn the estimation about BTC\",command = estimateBTC).pack()\n"
   ]
  },
  {
   "cell_type": "code",
   "execution_count": 460,
   "metadata": {
    "collapsed": false
   },
   "outputs": [],
   "source": [
    "top.mainloop()"
   ]
  },
  {
   "cell_type": "code",
   "execution_count": 29,
   "metadata": {
    "collapsed": true
   },
   "outputs": [],
   "source": [
    "situation = \"empty\"\n",
    "def investAPI():\n",
    "    reqTicker = requests.get('https://devakademi.sahibinden.com/ticker')\n",
    "    reqHistory = requests.get('https://devakademi.sahibinden.com/history')\n",
    "    myTicker = reqTicker.json()\n",
    "    myHistory = reqHistory.json()\n",
    "    myHistory=myHistory[len(myHistory)-150:len(myHistory)]\n",
    "    myHistoryDataFrame = pd.DataFrame(myHistory,columns=['date','value'])\n",
    "    X = myHistoryDataFrame[\"date\"]\n",
    "    y = myHistoryDataFrame[\"value\"]\n",
    "    regr = linear_model.Ridge(solver='sag')\n",
    "    X.values.reshape(-1, 1)\n",
    "    y.values.reshape(-1, 1)\n",
    "    regr.fit(X.values.reshape(-1,1), y)\n",
    "    y_pred = regr.predict(myTicker['date'])\n",
    "    riskInvest = (-y_pred[0] + myTicker['value'])/y_pred[0]*100\n",
    "    if riskInvest >= 100:\n",
    "        situation=\"you should definetely invest\"\n",
    "    elif riskInvest < 100 and riskInvest>0:\n",
    "        situation=\"you can invest\"\n",
    "    elif riskInvest <0:\n",
    "        situation=\"you should not invest\"\n",
    "    #tkinter.messagebox.showinfo( \"Investment Situation\", situation+\" with the score of \"+str(riskInvest))\n",
    "    return situation+\" with the score of \"+str(riskInvest)\n",
    "def coinValAPI():\n",
    "    reqTicker = requests.get('https://devakademi.sahibinden.com/ticker')\n",
    "    myTicker = reqTicker.json()\n",
    "    #tkinter.messagebox.showinfo( \"Currency Value\",str(myTicker['value'])+\" Dollars!\")\n",
    "    return str(myTicker['value'])+\" Dollars!\"\n",
    "def getBTCrateAPI():\n",
    "    reqBTC = requests.get('https://api.coindesk.com/v1/bpi/currentprice/USD.json')\n",
    "    BTCcurrent = reqBTC.json()\n",
    "    BTCcurrent['bpi']['USD']['rate']\n",
    "    #tkinter.messagebox.showinfo( \"Currency Value\",str(BTCcurrent['bpi']['USD']['rate'])+\" Dollars!\")\n",
    "    return str(BTCcurrent['bpi']['USD']['rate'])+\" Dollars!\"\n",
    "def investBTCAPI():\n",
    "    reqBTC = requests.get('https://api.coindesk.com/v1/bpi/currentprice/USD.json')\n",
    "    BTCcurrent = reqBTC.json()\n",
    "    BTCcurrent['bpi']['USD']['rate']\n",
    "    reqBTCHistory = requests.get('https://api.coindesk.com/v1/bpi/historical/close.json?start=2017-09-01&end=2017-12-09')\n",
    "    BTCHistory = reqBTCHistory.json()\n",
    "    myBTCHistoryDataFrame = pd.DataFrame({'rate':BTCHistory['bpi']})\n",
    "    BTCy = myBTCHistoryDataFrame[\"rate\"] \n",
    "    timelist=[]\n",
    "    for i in range(len(BTCy)):\n",
    "        timelist.append(i)\n",
    "    BTCX = pd.Series(data=timelist)\n",
    "    regr = linear_model.Ridge(solver='sag')\n",
    "    BTCX.values.reshape(-1, 1)\n",
    "    BTCy.values.reshape(-1, 1)\n",
    "    regr.fit(BTCX.values.reshape(-1,1), BTCy)\n",
    "    y_pred = regr.predict(len(BTCX)+3)\n",
    "    s=BTCcurrent['bpi']['USD']['rate'].split(',')\n",
    "    a=\"\"\n",
    "    b=a.join(s)\n",
    "    b.strip()\n",
    "    c=float(b)\n",
    "    riskInvest = ((-y_pred[0] + c)/y_pred[0])*100\n",
    "    if riskInvest >= 100:\n",
    "        situation=\"you should definetely invest\"\n",
    "    elif riskInvest < 100 and riskInvest>0:\n",
    "        situation=\"you can invest\"\n",
    "    elif riskInvest <0:\n",
    "        situation=\"you should not invest\"\n",
    "    #tkinter.messagebox.showinfo( \"Investment Situation\", situation+\" with the score of \"+str(riskInvest))\n",
    "    return situation+\" with the score of \"+str(riskInvest)\n",
    "def estimateSCoinAPI():\n",
    "    reqTicker = requests.get('https://devakademi.sahibinden.com/ticker')\n",
    "    reqHistory = requests.get('https://devakademi.sahibinden.com/history')\n",
    "    myTicker = reqTicker.json()\n",
    "    myHistory = reqHistory.json()\n",
    "    myHistory=myHistory[len(myHistory)-150:len(myHistory)]\n",
    "    myHistoryDataFrame = pd.DataFrame(myHistory,columns=['date','value'])\n",
    "    X = myHistoryDataFrame[\"date\"]\n",
    "    y = myHistoryDataFrame[\"value\"]\n",
    "    regr = linear_model.Ridge(solver='sag')\n",
    "    X.values.reshape(-1, 1)\n",
    "    y.values.reshape(-1, 1)\n",
    "    regr.fit(X.values.reshape(-1,1), y)\n",
    "    y_pred = regr.predict(myTicker['date'])\n",
    "    #tkinter.messagebox.showinfo( \"Estimation\",\"Estimation \"+ str(y_pred[0]))\n",
    "    return \"Estimation \"+ str(y_pred[0])\n",
    "def estimateBTCAPI():\n",
    "    reqBTCHistory = requests.get('https://api.coindesk.com/v1/bpi/historical/close.json?start=2017-09-01&end=2017-12-09')\n",
    "    BTCHistory = reqBTCHistory.json()\n",
    "    myBTCHistoryDataFrame = pd.DataFrame({'rate':BTCHistory['bpi']})\n",
    "    BTCy = myBTCHistoryDataFrame[\"rate\"] \n",
    "    timelist=[]\n",
    "    for i in range(len(BTCy)):\n",
    "        timelist.append(i)\n",
    "    BTCX = pd.Series(data=timelist)\n",
    "    regr = linear_model.Ridge(solver='sag')\n",
    "    BTCX.values.reshape(-1, 1)\n",
    "    BTCy.values.reshape(-1, 1)\n",
    "    regr.fit(BTCX.values.reshape(-1,1), BTCy)\n",
    "    y_pred = regr.predict(len(BTCX)+1)\n",
    "    #tkinter.messagebox.showinfo( \"Estimation\",\"Estimation \"+ str(y_pred[0]))\n",
    "    return (\"Estimation\"+ str(y_pred[0]))"
   ]
  },
  {
   "cell_type": "code",
   "execution_count": 29,
   "metadata": {
    "collapsed": false
   },
   "outputs": [],
   "source": [
    "#conn = sqlite3.connect('example.db')"
   ]
  },
  {
   "cell_type": "code",
   "execution_count": 30,
   "metadata": {
    "collapsed": true
   },
   "outputs": [],
   "source": [
    "#c = conn.cursor()"
   ]
  },
  {
   "cell_type": "code",
   "execution_count": 32,
   "metadata": {
    "collapsed": false,
    "scrolled": true
   },
   "outputs": [],
   "source": [
    "# Create table\n",
    "#c.execute('''CREATE TABLE scoininfo(sinvestment text, svalue text, sestimation text, binvestment text, bvalue text, bestimation text)''')"
   ]
  },
  {
   "cell_type": "code",
   "execution_count": 30,
   "metadata": {
    "collapsed": false
   },
   "outputs": [],
   "source": [
    "s1 = investAPI()\n",
    "s2 = coinValAPI()\n",
    "s3 = estimateSCoinAPI()\n",
    "b1 = investBTCAPI()\n",
    "b2 = getBTCrateAPI()\n",
    "b3 = estimateBTCAPI()"
   ]
  },
  {
   "cell_type": "code",
   "execution_count": 32,
   "metadata": {
    "collapsed": false
   },
   "outputs": [],
   "source": [
    "#c.execute(\"INSERT INTO scoininfo VALUES (?, ?, ?, ?,?,?);\", (s1, s2, s3, b1,b2,b3))\n"
   ]
  },
  {
   "cell_type": "code",
   "execution_count": 33,
   "metadata": {
    "collapsed": true
   },
   "outputs": [],
   "source": [
    "# Save (commit) the changes\n",
    "#conn.commit()"
   ]
  },
  {
   "cell_type": "code",
   "execution_count": 34,
   "metadata": {
    "collapsed": false
   },
   "outputs": [],
   "source": [
    "#for row in c.execute('SELECT * FROM scoininfo ORDER BY bvalue'):\n",
    " #       print(row)"
   ]
  },
  {
   "cell_type": "code",
   "execution_count": 35,
   "metadata": {
    "collapsed": false
   },
   "outputs": [],
   "source": [
    "#delete_id = 'you should not invest with the score of -11.988411051'\n",
    "#c.execute('''DELETE FROM scoininfo WHERE sinvestment = ?''', (delete_id,))"
   ]
  },
  {
   "cell_type": "code",
   "execution_count": 36,
   "metadata": {
    "collapsed": false
   },
   "outputs": [],
   "source": [
    "#for row in c.execute('SELECT * FROM scoininfo ORDER BY bvalue'):\n",
    "   #     print(row)"
   ]
  },
  {
   "cell_type": "code",
   "execution_count": 31,
   "metadata": {
    "collapsed": true
   },
   "outputs": [],
   "source": [
    "db_connect = create_engine('sqlite:///gsoykans.db')\n",
    "app = Flask(__name__)\n",
    "api = Api(app)"
   ]
  },
  {
   "cell_type": "code",
   "execution_count": 32,
   "metadata": {
    "collapsed": true
   },
   "outputs": [],
   "source": [
    "conn2 = db_connect.connect()"
   ]
  },
  {
   "cell_type": "code",
   "execution_count": 33,
   "metadata": {
    "collapsed": false
   },
   "outputs": [
    {
     "data": {
      "text/plain": [
       "<sqlalchemy.engine.result.ResultProxy at 0x1cfd7cb4278>"
      ]
     },
     "execution_count": 33,
     "metadata": {},
     "output_type": "execute_result"
    }
   ],
   "source": [
    "conn2.execute('''CREATE TABLE scoininfo2(sinvestment text, svalue text, sestimation text, binvestment text, bvalue text, bestimation text)''')\n"
   ]
  },
  {
   "cell_type": "code",
   "execution_count": 34,
   "metadata": {
    "collapsed": false
   },
   "outputs": [
    {
     "data": {
      "text/plain": [
       "<sqlalchemy.engine.result.ResultProxy at 0x1cfdc08e550>"
      ]
     },
     "execution_count": 34,
     "metadata": {},
     "output_type": "execute_result"
    }
   ],
   "source": [
    "conn2.execute(\"INSERT INTO scoininfo2 VALUES (?, ?, ?, ?,?,?);\", (investAPI(),\n",
    "coinValAPI(),\n",
    "estimateSCoinAPI(),\n",
    "investBTCAPI(),\n",
    "getBTCrateAPI(),\n",
    "estimateBTCAPI()))\n"
   ]
  },
  {
   "cell_type": "code",
   "execution_count": 35,
   "metadata": {
    "collapsed": false
   },
   "outputs": [
    {
     "ename": "TypeError",
     "evalue": "'str' object is not callable",
     "output_type": "error",
     "traceback": [
      "\u001b[0;31m---------------------------------------------------------------------------\u001b[0m",
      "\u001b[0;31mTypeError\u001b[0m                                 Traceback (most recent call last)",
      "\u001b[0;32m<ipython-input-35-2ea81c6ae037>\u001b[0m in \u001b[0;36m<module>\u001b[0;34m()\u001b[0m\n\u001b[1;32m      5\u001b[0m \u001b[0mb2\u001b[0m \u001b[1;33m=\u001b[0m \u001b[0mgetBTCrateAPI\u001b[0m\u001b[1;33m(\u001b[0m\u001b[1;33m)\u001b[0m\u001b[1;33m\u001b[0m\u001b[0m\n\u001b[1;32m      6\u001b[0m \u001b[0mb3\u001b[0m \u001b[1;33m=\u001b[0m \u001b[0mestimateBTCAPI\u001b[0m\u001b[1;33m(\u001b[0m\u001b[1;33m)\u001b[0m\u001b[1;33m\u001b[0m\u001b[0m\n\u001b[0;32m----> 7\u001b[0;31m \u001b[0mconn2\u001b[0m\u001b[1;33m.\u001b[0m\u001b[0mexecute\u001b[0m\u001b[1;33m(\u001b[0m\u001b[1;34m\"UPDATE scoininfo SET sinvestment = ?, svalue=?,sestimation=?,binvestment=?,bvalue=?,bestimation=? WHERE bestimation=? \"\u001b[0m\u001b[1;33m(\u001b[0m\u001b[0ms1\u001b[0m\u001b[1;33m,\u001b[0m\u001b[0ms2\u001b[0m\u001b[1;33m,\u001b[0m\u001b[0ms3\u001b[0m\u001b[1;33m,\u001b[0m\u001b[0mb1\u001b[0m\u001b[1;33m,\u001b[0m\u001b[0mb2\u001b[0m\u001b[1;33m,\u001b[0m\u001b[0mb3\u001b[0m\u001b[1;33m,\u001b[0m\u001b[0mb3\u001b[0m\u001b[1;33m)\u001b[0m\u001b[1;33m)\u001b[0m\u001b[1;33m\u001b[0m\u001b[0m\n\u001b[0m",
      "\u001b[0;31mTypeError\u001b[0m: 'str' object is not callable"
     ]
    }
   ],
   "source": [
    "s1 = investAPI()\n",
    "s2 = coinValAPI()\n",
    "s3 = estimateSCoinAPI()\n",
    "b1 = investBTCAPI()\n",
    "b2 = getBTCrateAPI()\n",
    "b3 = estimateBTCAPI()\n",
    "conn2.execute(\"UPDATE scoininfo SET sinvestment = ?, svalue=?,sestimation=?,binvestment=?,bvalue=?,bestimation=? WHERE bestimation=? \"(s1,s2,s3,b1,b2,b3,b3))"
   ]
  },
  {
   "cell_type": "code",
   "execution_count": 36,
   "metadata": {
    "collapsed": false
   },
   "outputs": [],
   "source": [
    "class s6get(MethodView):\n",
    "    def get(self):\n",
    "        conn = db_connect.connect() # connect to database\n",
    "        conn.execute('DELETE FROM scoininfo2 WHERE bestimation=?', (estimateBTCAPI(),))\n",
    "        conn.execute(\"INSERT INTO scoininfo2 VALUES (?, ?, ?, ?,?,?);\", (investAPI(),\n",
    "        coinValAPI(),\n",
    "        estimateSCoinAPI(),\n",
    "        investBTCAPI(),\n",
    "        getBTCrateAPI(),\n",
    "        estimateBTCAPI()))\n",
    "        query = conn.execute(\"select * from scoininfo2\") # This line performs query and returns json result\n",
    "        #rows = conn.fetchall()\n",
    "        result = {'data': [dict(zip(tuple (query.keys()) ,i)) for i in query.cursor]}\n",
    "        return jsonify(result)"
   ]
  },
  {
   "cell_type": "code",
   "execution_count": 37,
   "metadata": {
    "collapsed": false
   },
   "outputs": [],
   "source": [
    "api.add_resource(s6get, '/s6get') # Route1"
   ]
  },
  {
   "cell_type": "code",
   "execution_count": null,
   "metadata": {
    "collapsed": false
   },
   "outputs": [
    {
     "name": "stderr",
     "output_type": "stream",
     "text": [
      " * Running on http://127.0.0.1:5002/ (Press CTRL+C to quit)\n",
      "127.0.0.1 - - [10/Dec/2017 17:36:08] \"GET /s6get HTTP/1.1\" 200 -\n",
      "127.0.0.1 - - [10/Dec/2017 17:36:15] \"GET /s6get HTTP/1.1\" 200 -\n",
      "127.0.0.1 - - [10/Dec/2017 17:36:20] \"GET /s6get HTTP/1.1\" 200 -\n"
     ]
    }
   ],
   "source": [
    "app.run(port='5002')\n"
   ]
  },
  {
   "cell_type": "code",
   "execution_count": null,
   "metadata": {
    "collapsed": true
   },
   "outputs": [],
   "source": []
  }
 ],
 "metadata": {
  "kernelspec": {
   "display_name": "Python 3",
   "language": "python",
   "name": "python3"
  },
  "language_info": {
   "codemirror_mode": {
    "name": "ipython",
    "version": 3
   },
   "file_extension": ".py",
   "mimetype": "text/x-python",
   "name": "python",
   "nbconvert_exporter": "python",
   "pygments_lexer": "ipython3",
   "version": "3.6.0"
  }
 },
 "nbformat": 4,
 "nbformat_minor": 2
}
